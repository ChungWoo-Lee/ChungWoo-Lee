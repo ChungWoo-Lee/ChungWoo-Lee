{
 "cells": [
  {
   "cell_type": "code",
   "execution_count": 1,
   "metadata": {},
   "outputs": [],
   "source": [
    "import torch\n",
    "import pythreejs as pjs\n",
    "import numpy as np"
   ]
  },
  {
   "cell_type": "code",
   "execution_count": 2,
   "metadata": {},
   "outputs": [],
   "source": [
    "def visualize_3d(xyz, rgb=None, size=0.01, height=480, width=480):\n",
    "    points_buf = pjs.BufferAttribute(array=xyz)\n",
    "    geometryAttrs = {'position': points_buf}\n",
    "    \n",
    "\n",
    "    if rgb is not None:\n",
    "        colors_buf = pjs.BufferAttribute(array=rgb)\n",
    "        geometryAttrs['color'] = colors_buf\n",
    "    \n",
    "    geometry = pjs.BufferGeometry(attributes=geometryAttrs)\n",
    "\n",
    "    material = pjs.PointsMaterial(vertexColors='VertexColors', size=size)\n",
    "    pointCloud = pjs.Points(geometry=geometry, material=material)\n",
    "\n",
    "    pythreejs_camera = pjs.PerspectiveCamera(    \n",
    "        up=[1, 0, 1],\n",
    "        children=[pjs.DirectionalLight(color='blue', intensity=0.5)])\n",
    "\n",
    "    pythreejs_camera.rotateX(np.pi/4)\n",
    "    pythreejs_camera.position = (200., 1000., 100.)\n",
    "\n",
    "    scene = pjs.Scene(children=[\n",
    "                    pointCloud,\n",
    "                    pythreejs_camera,\n",
    "                    pjs.AmbientLight(color='#777777')])\n",
    "    \n",
    "    axes = pjs.AxesHelper(size=3)\n",
    "    scene.add(axes)\n",
    "        \n",
    "    control = pjs.OrbitControls(controlling=pythreejs_camera)\n",
    "    renderer = pjs.Renderer(camera=pythreejs_camera, \n",
    "                        scene=scene, \n",
    "                        width=width,\n",
    "                        height=height,\n",
    "                        preserveDrawingBuffer=True,\n",
    "                        controls=[control])\n",
    "    \n",
    "    return renderer"
   ]
  },
  {
   "cell_type": "code",
   "execution_count": 3,
   "metadata": {},
   "outputs": [
    {
     "name": "stdout",
     "output_type": "stream",
     "text": [
      "[[0.       0.       0.       ... 0.       0.       0.      ]\n",
      " [0.       0.       0.       ... 0.       0.       0.      ]\n",
      " [0.       0.       0.       ... 0.       0.       0.      ]\n",
      " ...\n",
      " [0.       0.       0.       ... 0.       0.       0.      ]\n",
      " [6.277187 0.       0.       ... 0.       0.       0.      ]\n",
      " [0.       0.       0.       ... 0.       0.       0.      ]] \n",
      "\n",
      "[[0.       0.       0.       ... 0.       0.       0.      ]\n",
      " [0.       0.       0.       ... 0.       0.       0.      ]\n",
      " [0.       0.       0.       ... 0.       0.       0.      ]\n",
      " ...\n",
      " [0.       0.       0.       ... 0.       0.       0.      ]\n",
      " [6.277187 0.       0.       ... 0.       0.       0.      ]\n",
      " [0.       0.       0.       ... 0.       0.       0.      ]]\n",
      "[[0.000e+00 0.000e+00 0.000e+00]\n",
      " [0.000e+00 1.000e+00 0.000e+00]\n",
      " [0.000e+00 2.000e+00 0.000e+00]\n",
      " ...\n",
      " [3.740e+02 1.239e+03 0.000e+00]\n",
      " [3.740e+02 1.240e+03 0.000e+00]\n",
      " [3.740e+02 1.241e+03 0.000e+00]]\n"
     ]
    }
   ],
   "source": [
    "pred = np.load('/home/lcw/workspace/0000000000_depth_0_pred.npz', allow_pickle=True)\n",
    "pred = pred['velodyne_depth']\n",
    "gt = np.load('/home/lcw/workspace/0000000000.npz')\n",
    "gt = gt['velodyne_depth']\n",
    "\n",
    "print(pred,'\\n')\n",
    "print(gt)\n",
    "i,j = np.indices((pred.shape))\n",
    "\n",
    "points = np.vstack((i.flatten(),j.flatten(),pred.flatten())).T\n",
    "print(points)"
   ]
  },
  {
   "cell_type": "code",
   "execution_count": 4,
   "metadata": {},
   "outputs": [],
   "source": [
    "################################################################################################\n",
    "################----------visualize_predicted_depth__&&__ground_truth----------#################\n",
    "################################################################################################"
   ]
  },
  {
   "cell_type": "code",
   "execution_count": 5,
   "metadata": {},
   "outputs": [],
   "source": [
    "# visualize_3d(points)"
   ]
  },
  {
   "cell_type": "code",
   "execution_count": 9,
   "metadata": {},
   "outputs": [],
   "source": [
    "def compute_depth_errors(gt, pred):\n",
    "    valid_mask = (gt > 0) & (pred > 0)\n",
    "    \n",
    "    # 마스크를 적용하여 0이 아닌 요소만을 선택\n",
    "    gt_valid = gt[valid_mask]\n",
    "    pred_valid = pred[valid_mask]\n",
    "\n",
    "    abs_rel = torch.mean(torch.abs(gt_valid - pred_valid) / gt_valid)\n",
    "\n",
    "    sq_rel = torch.mean((gt_valid - pred_valid) ** 2 / gt_valid)\n",
    "    \n",
    "    rmse = (gt_valid - pred_valid) ** 2\n",
    "    rmse = torch.sqrt(rmse.mean())\n",
    "\n",
    "    rmse_log = (torch.log(gt) - torch.log(pred)) ** 2\n",
    "    rmse_log = torch.sqrt(rmse_log.mean())\n",
    "\n",
    "\n",
    "    delta = torch.max((gt/ pred), (pred / gt))\n",
    "    a1 = (delta < 1.25     ).float().mean()\n",
    "    a2 = (delta < 1.25 ** 2).float().mean()\n",
    "    a3 = (delta < 1.25 ** 3).float().mean()\n",
    "\n",
    "    return abs_rel, sq_rel, rmse, rmse_log, a1, a2, a3\n"
   ]
  },
  {
   "cell_type": "code",
   "execution_count": 10,
   "metadata": {},
   "outputs": [
    {
     "ename": "TypeError",
     "evalue": "expected np.ndarray (got Tensor)",
     "output_type": "error",
     "traceback": [
      "\u001b[0;31m---------------------------------------------------------------------------\u001b[0m",
      "\u001b[0;31mTypeError\u001b[0m                                 Traceback (most recent call last)",
      "Cell \u001b[0;32mIn[10], line 1\u001b[0m\n\u001b[0;32m----> 1\u001b[0m gt \u001b[38;5;241m=\u001b[39m \u001b[43mtorch\u001b[49m\u001b[38;5;241;43m.\u001b[39;49m\u001b[43mfrom_numpy\u001b[49m\u001b[43m(\u001b[49m\u001b[43mgt\u001b[49m\u001b[43m)\u001b[49m\n\u001b[1;32m      2\u001b[0m pred \u001b[38;5;241m=\u001b[39m torch\u001b[38;5;241m.\u001b[39mfrom_numpy(pred)\n\u001b[1;32m      3\u001b[0m \u001b[38;5;28mprint\u001b[39m(compute_depth_errors(gt,pred))\n",
      "\u001b[0;31mTypeError\u001b[0m: expected np.ndarray (got Tensor)"
     ]
    }
   ],
   "source": [
    "gt = torch.from_numpy(gt)\n",
    "pred = torch.from_numpy(pred)\n",
    "print(compute_depth_errors(gt,pred))"
   ]
  },
  {
   "cell_type": "code",
   "execution_count": null,
   "metadata": {},
   "outputs": [],
   "source": []
  }
 ],
 "metadata": {
  "kernelspec": {
   "display_name": "Python 3",
   "language": "python",
   "name": "python3"
  },
  "language_info": {
   "codemirror_mode": {
    "name": "ipython",
    "version": 3
   },
   "file_extension": ".py",
   "mimetype": "text/x-python",
   "name": "python",
   "nbconvert_exporter": "python",
   "pygments_lexer": "ipython3",
   "version": "3.8.10"
  }
 },
 "nbformat": 4,
 "nbformat_minor": 2
}
