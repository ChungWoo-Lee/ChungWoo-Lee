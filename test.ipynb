{
 "cells": [
  {
   "cell_type": "code",
   "execution_count": 1,
   "metadata": {},
   "outputs": [],
   "source": [
    "import torch\n",
    "import pythreejs as pjs\n",
    "import numpy as np"
   ]
  },
  {
   "cell_type": "code",
   "execution_count": 2,
   "metadata": {},
   "outputs": [],
   "source": [
    "def visualize_3d(xyz, rgb=None, size=0.01, height=480, width=480):\n",
    "    points_buf = pjs.BufferAttribute(array=xyz)\n",
    "    geometryAttrs = {'position': points_buf}\n",
    "    \n",
    "\n",
    "    if rgb is not None:\n",
    "        colors_buf = pjs.BufferAttribute(array=rgb)\n",
    "        geometryAttrs['color'] = colors_buf\n",
    "    \n",
    "    geometry = pjs.BufferGeometry(attributes=geometryAttrs)\n",
    "\n",
    "    material = pjs.PointsMaterial(vertexColors='VertexColors', size=size)\n",
    "    pointCloud = pjs.Points(geometry=geometry, material=material)\n",
    "\n",
    "    pythreejs_camera = pjs.PerspectiveCamera(    \n",
    "        up=[1, 0, 1],\n",
    "        children=[pjs.DirectionalLight(color='blue', intensity=0.5)])\n",
    "\n",
    "    pythreejs_camera.rotateX(np.pi/4)\n",
    "    pythreejs_camera.position = (200., 1000., 100.)\n",
    "\n",
    "    scene = pjs.Scene(children=[\n",
    "                    pointCloud,\n",
    "                    pythreejs_camera,\n",
    "                    pjs.AmbientLight(color='#777777')])\n",
    "    \n",
    "    axes = pjs.AxesHelper(size=3)\n",
    "    scene.add(axes)\n",
    "        \n",
    "    control = pjs.OrbitControls(controlling=pythreejs_camera)\n",
    "    renderer = pjs.Renderer(camera=pythreejs_camera, \n",
    "                        scene=scene, \n",
    "                        width=width,\n",
    "                        height=height,\n",
    "                        preserveDrawingBuffer=True,\n",
    "                        controls=[control])\n",
    "    \n",
    "    return renderer"
   ]
  },
  {
   "cell_type": "code",
   "execution_count": 3,
   "metadata": {},
   "outputs": [],
   "source": [
    "pred = np.load('/home/lcw/workspace/0000000000_depth_0_pred.npz', allow_pickle=True)\n",
    "pred = pred['velodyne_depth']\n",
    "gt = np.load('/home/lcw/workspace/0000000000.npz')\n",
    "gt = gt['velodyne_depth']\n",
    "\n",
    "i,j = np.indices((pred.shape))\n",
    "\n",
    "points = np.vstack((i.flatten(),j.flatten(),pred.flatten())).T\n",
    "gt_points = np.vstack((i.flatten(),j.flatten(),gt.flatten())).T"
   ]
  },
  {
   "cell_type": "code",
   "execution_count": 4,
   "metadata": {},
   "outputs": [],
   "source": [
    "################################################################################################\n",
    "################----------visualize_predicted_depth__&&__ground_truth----------#################\n",
    "################################################################################################"
   ]
  },
  {
   "cell_type": "code",
   "execution_count": 5,
   "metadata": {},
   "outputs": [
    {
     "name": "stderr",
     "output_type": "stream",
     "text": [
      "/home/lcw/.local/lib/python3.8/site-packages/pythreejs/traits.py:257: UserWarning: 64-bit data types not supported for WebGL data, casting to 32-bit.\n",
      "  warnings.warn('64-bit data types not supported for WebGL '\n"
     ]
    },
    {
     "data": {
      "application/vnd.jupyter.widget-view+json": {
       "model_id": "212b6d050bdc4ae2ac62163cd15a93e5",
       "version_major": 2,
       "version_minor": 0
      },
      "text/plain": [
       "Renderer(camera=PerspectiveCamera(children=(DirectionalLight(color='blue', intensity=0.5, position=(0.0, 0.0, …"
      ]
     },
     "execution_count": 5,
     "metadata": {},
     "output_type": "execute_result"
    }
   ],
   "source": [
    "visualize_3d(points)\n",
    "visualize_3d(gt_points)"
   ]
  },
  {
   "cell_type": "code",
   "execution_count": 6,
   "metadata": {},
   "outputs": [],
   "source": [
    "def compute_depth_errors(gt, pred):\n",
    "    valid_mask = (gt > 0) & (pred > 0)\n",
    "    \n",
    "    # 마스크를 적용하여 0이 아닌 요소만을 선택\n",
    "    gt_valid = gt[valid_mask]\n",
    "    pred_valid = pred[valid_mask]\n",
    "\n",
    "    abs_rel = torch.mean(torch.abs(gt_valid - pred_valid) / gt_valid)\n",
    "\n",
    "    sq_rel = torch.mean((gt_valid - pred_valid) ** 2 / gt_valid)\n",
    "    \n",
    "    rmse = (gt_valid - pred_valid) ** 2\n",
    "    rmse = torch.sqrt(rmse.mean())\n",
    "\n",
    "    rmse_log = (torch.log(gt) - torch.log(pred)) ** 2\n",
    "    rmse_log = torch.sqrt(rmse_log.mean())\n",
    "\n",
    "\n",
    "    delta = torch.max((gt/ pred), (pred / gt))\n",
    "    a1 = (delta < 1.25     ).float().mean()\n",
    "    a2 = (delta < 1.25 ** 2).float().mean()\n",
    "    a3 = (delta < 1.25 ** 3).float().mean()\n",
    "\n",
    "    return abs_rel, sq_rel, rmse, rmse_log, a1, a2, a3\n"
   ]
  },
  {
   "cell_type": "code",
   "execution_count": 7,
   "metadata": {},
   "outputs": [
    {
     "name": "stdout",
     "output_type": "stream",
     "text": [
      "(tensor(0.), tensor(0.), tensor(0.), tensor(nan), tensor(0.0413), tensor(0.0413), tensor(0.0413))\n"
     ]
    }
   ],
   "source": [
    "gt = torch.from_numpy(gt)\n",
    "pred = torch.from_numpy(pred)\n",
    "print(compute_depth_errors(gt,pred))"
   ]
  },
  {
   "cell_type": "code",
   "execution_count": null,
   "metadata": {},
   "outputs": [],
   "source": []
  }
 ],
 "metadata": {
  "kernelspec": {
   "display_name": "Python 3",
   "language": "python",
   "name": "python3"
  },
  "language_info": {
   "codemirror_mode": {
    "name": "ipython",
    "version": 3
   },
   "file_extension": ".py",
   "mimetype": "text/x-python",
   "name": "python",
   "nbconvert_exporter": "python",
   "pygments_lexer": "ipython3",
   "version": "3.8.10"
  }
 },
 "nbformat": 4,
 "nbformat_minor": 2
}
